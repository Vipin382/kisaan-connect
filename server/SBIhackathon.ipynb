{
 "cells": [
  {
   "cell_type": "code",
   "execution_count": 1,
   "metadata": {},
   "outputs": [
    {
     "name": "stderr",
     "output_type": "stream",
     "text": [
      "d:\\React-Native\\kisaan-connect\\server\\venv\\lib\\site-packages\\fuzzywuzzy\\fuzz.py:11: UserWarning: Using slow pure-python SequenceMatcher. Install python-Levenshtein to remove this warning\n",
      "  warnings.warn('Using slow pure-python SequenceMatcher. Install python-Levenshtein to remove this warning')\n",
      "[nltk_data] Downloading package punkt to\n",
      "[nltk_data]     C:\\Users\\vipin\\AppData\\Roaming\\nltk_data...\n",
      "[nltk_data]   Package punkt is already up-to-date!\n"
     ]
    },
    {
     "data": {
      "text/plain": [
       "True"
      ]
     },
     "execution_count": 1,
     "metadata": {},
     "output_type": "execute_result"
    }
   ],
   "source": [
    "from fuzzywuzzy import fuzz\n",
    "from fuzzywuzzy import process\n",
    "from ai4bharat.transliteration import XlitEngine\n",
    "import nltk\n",
    "nltk.download('punkt')"
   ]
  },
  {
   "cell_type": "code",
   "execution_count": 2,
   "metadata": {},
   "outputs": [],
   "source": [
    "def tokenize(full_name):\n",
    "  tokens=nltk.word_tokenize(full_name)\n",
    "  print(tokens)"
   ]
  },
  {
   "cell_type": "code",
   "execution_count": 3,
   "metadata": {},
   "outputs": [],
   "source": [
    "def transliterate(l_token,top=3, lang='hi'):\n",
    "  e = XlitEngine(src_script_type='indic', beam_width=4, rescore=True)\n",
    "  trans_word = e.translit_word(l_token, lang_code=lang, topk=top)\n",
    "  return trans_word"
   ]
  },
  {
   "cell_type": "code",
   "execution_count": 4,
   "metadata": {},
   "outputs": [],
   "source": [
    "def nameMatch(a_token,l_token_topk):\n",
    "  res=[]\n",
    "  for l_token in l_token_topk:\n",
    "    if a_token[0]!=l_token[0]:\n",
    "      # print(a_token[0], l_token[0])\n",
    "      res.append(0)\n",
    "    else:\n",
    "      res.append(fuzz.ratio(a_token, l_token))\n",
    "\n",
    "  return max(res)"
   ]
  },
  {
   "cell_type": "code",
   "execution_count": 5,
   "metadata": {},
   "outputs": [],
   "source": [
    "def fullFuzzy(a_tokens, l_tokens_topk):\n",
    "  fuzzyOfFullName=[]\n",
    "  for a_token in a_tokens:\n",
    "    fuzzyValue=[]\n",
    "    for l_token_topk in l_tokens_topk:\n",
    "      fuzzyValue.append(nameMatch(a_token, l_token_topk))\n",
    "    fuzzyOfFullName.append(max(fuzzyValue))\n",
    "  return fuzzyOfFullName"
   ]
  },
  {
   "cell_type": "code",
   "execution_count": 6,
   "metadata": {},
   "outputs": [],
   "source": [
    "def result(fuzzyOfFullName):\n",
    "  wordsFullyMatched=0\n",
    "  for value in fuzzyOfFullName:\n",
    "    if value==100:\n",
    "      wordsFullyMatched = wordsFullyMatched + 1\n",
    "  fuzzyScore = sum(fuzzyOfFullName) / len(fuzzyOfFullName)\n",
    "\n",
    "  if wordsFullyMatched == 3:\n",
    "    print(\"Approved\")\n",
    "  elif wordsFullyMatched > 0 or fuzzyScore > 60:\n",
    "    print(\"Doubtful\")\n",
    "  else:\n",
    "    print(\"Rejected\")"
   ]
  },
  {
   "cell_type": "code",
   "execution_count": 7,
   "metadata": {},
   "outputs": [],
   "source": [
    "def mainFun(aname, lname):\n",
    "  aname = aname.lower()\n",
    "  a_tokens= (nltk.word_tokenize(aname))\n",
    "  l_tokens = nltk.word_tokenize(lname)\n",
    "  l_tokens_topk = []\n",
    "  for l_token in l_tokens:\n",
    "    l_tokens_topk.append(transliterate(l_token))\n",
    "\n",
    "  fuzzyOfFullName = fullFuzzy(a_tokens, l_tokens_topk)\n",
    "  status = result(fuzzyOfFullName)"
   ]
  },
  {
   "cell_type": "code",
   "execution_count": 8,
   "metadata": {},
   "outputs": [],
   "source": [
    "import joblib"
   ]
  },
  {
   "cell_type": "code",
   "execution_count": 9,
   "metadata": {},
   "outputs": [],
   "source": [
    "joblib.dump(mainFun, open('model.joblib', 'wb'))"
   ]
  },
  {
   "cell_type": "code",
   "execution_count": 11,
   "metadata": {},
   "outputs": [
    {
     "name": "stdout",
     "output_type": "stream",
     "text": [
      "Downloading Multilingual model for transliteration\n"
     ]
    },
    {
     "name": "stderr",
     "output_type": "stream",
     "text": [
      "MB  0% (0 of 119.0) |                    | Elapsed Time: 0:00:00 ETA:  --:--:--\n",
      "MB  0% (1 of 119.0) |                    | Elapsed Time: 0:00:00 ETA:   0:00:47\n",
      "MB  1% (2 of 119.0) |                    | Elapsed Time: 0:00:00 ETA:   0:00:46\n",
      "MB  2% (3 of 119.0) |                    | Elapsed Time: 0:00:01 ETA:   0:00:46\n",
      "MB  3% (4 of 119.0) |                    | Elapsed Time: 0:00:01 ETA:   0:00:44\n",
      "MB  4% (5 of 119.0) |                    | Elapsed Time: 0:00:01 ETA:   0:00:44\n",
      "MB  5% (6 of 119.0) |#                   | Elapsed Time: 0:00:02 ETA:   0:00:43\n",
      "MB  5% (7 of 119.0) |#                   | Elapsed Time: 0:00:02 ETA:   0:00:45\n",
      "MB  6% (8 of 119.0) |#                   | Elapsed Time: 0:00:03 ETA:   0:00:46\n",
      "MB  7% (9 of 119.0) |#                   | Elapsed Time: 0:00:03 ETA:   0:00:45\n",
      "MB  8% (10 of 119.0) |#                  | Elapsed Time: 0:00:03 ETA:   0:00:43\n",
      "MB  9% (11 of 119.0) |#                  | Elapsed Time: 0:00:04 ETA:   0:00:41\n",
      "MB 10% (12 of 119.0) |#                  | Elapsed Time: 0:00:04 ETA:   0:00:42\n",
      "MB 10% (13 of 119.0) |##                 | Elapsed Time: 0:00:05 ETA:   0:00:40\n",
      "MB 11% (14 of 119.0) |##                 | Elapsed Time: 0:00:05 ETA:   0:00:37\n",
      "MB 12% (15 of 119.0) |##                 | Elapsed Time: 0:00:05 ETA:   0:00:36\n",
      "MB 13% (16 of 119.0) |##                 | Elapsed Time: 0:00:06 ETA:   0:00:42\n",
      "MB 14% (17 of 119.0) |##                 | Elapsed Time: 0:00:06 ETA:   0:00:41\n",
      "MB 15% (18 of 119.0) |##                 | Elapsed Time: 0:00:07 ETA:   0:00:37\n",
      "MB 15% (19 of 119.0) |###                | Elapsed Time: 0:00:07 ETA:   0:00:43\n",
      "MB 16% (20 of 119.0) |###                | Elapsed Time: 0:00:07 ETA:   0:00:44\n",
      "MB 17% (21 of 119.0) |###                | Elapsed Time: 0:00:08 ETA:   0:00:41\n",
      "MB 18% (22 of 119.0) |###                | Elapsed Time: 0:00:08 ETA:   0:00:39\n",
      "MB 19% (23 of 119.0) |###                | Elapsed Time: 0:00:08 ETA:   0:00:36\n",
      "MB 20% (24 of 119.0) |###                | Elapsed Time: 0:00:09 ETA:   0:00:39\n",
      "MB 21% (25 of 119.0) |###                | Elapsed Time: 0:00:09 ETA:   0:00:36\n",
      "MB 21% (26 of 119.0) |####               | Elapsed Time: 0:00:10 ETA:   0:00:34\n",
      "MB 22% (27 of 119.0) |####               | Elapsed Time: 0:00:10 ETA:   0:00:34\n",
      "MB 23% (28 of 119.0) |####               | Elapsed Time: 0:00:10 ETA:   0:00:32\n",
      "MB 24% (29 of 119.0) |####               | Elapsed Time: 0:00:11 ETA:   0:00:35\n",
      "MB 25% (30 of 119.0) |####               | Elapsed Time: 0:00:11 ETA:   0:00:32\n",
      "MB 26% (31 of 119.0) |####               | Elapsed Time: 0:00:12 ETA:   0:00:31\n",
      "MB 26% (32 of 119.0) |#####              | Elapsed Time: 0:00:12 ETA:   0:00:30\n",
      "MB 27% (33 of 119.0) |#####              | Elapsed Time: 0:00:12 ETA:   0:00:32\n",
      "MB 28% (34 of 119.0) |#####              | Elapsed Time: 0:00:13 ETA:   0:00:34\n",
      "MB 29% (35 of 119.0) |#####              | Elapsed Time: 0:00:13 ETA:   0:00:34\n",
      "MB 30% (36 of 119.0) |#####              | Elapsed Time: 0:00:14 ETA:   0:00:35\n",
      "MB 31% (37 of 119.0) |#####              | Elapsed Time: 0:00:14 ETA:   0:00:36\n",
      "MB 31% (38 of 119.0) |######             | Elapsed Time: 0:00:14 ETA:   0:00:33\n",
      "MB 32% (39 of 119.0) |######             | Elapsed Time: 0:00:15 ETA:   0:00:31\n",
      "MB 33% (40 of 119.0) |######             | Elapsed Time: 0:00:15 ETA:   0:00:28\n",
      "MB 34% (41 of 119.0) |######             | Elapsed Time: 0:00:16 ETA:   0:00:31\n",
      "MB 35% (42 of 119.0) |######             | Elapsed Time: 0:00:16 ETA:   0:00:35\n",
      "MB 36% (43 of 119.0) |######             | Elapsed Time: 0:00:17 ETA:   0:00:38\n",
      "MB 36% (44 of 119.0) |#######            | Elapsed Time: 0:00:17 ETA:   0:00:39\n",
      "MB 37% (45 of 119.0) |#######            | Elapsed Time: 0:00:18 ETA:   0:00:39\n",
      "MB 38% (46 of 119.0) |#######            | Elapsed Time: 0:00:19 ETA:   0:00:42\n",
      "MB 39% (47 of 119.0) |#######            | Elapsed Time: 0:00:19 ETA:   0:00:50\n",
      "MB 40% (48 of 119.0) |#######            | Elapsed Time: 0:00:20 ETA:   0:00:44\n",
      "MB 41% (49 of 119.0) |#######            | Elapsed Time: 0:00:20 ETA:   0:00:38\n",
      "MB 42% (50 of 119.0) |#######            | Elapsed Time: 0:00:20 ETA:   0:00:35\n",
      "MB 42% (51 of 119.0) |########           | Elapsed Time: 0:00:21 ETA:   0:00:33\n",
      "MB 43% (52 of 119.0) |########           | Elapsed Time: 0:00:22 ETA:   0:00:35\n",
      "MB 44% (53 of 119.0) |########           | Elapsed Time: 0:00:22 ETA:   0:00:38\n",
      "MB 45% (54 of 119.0) |########           | Elapsed Time: 0:00:23 ETA:   0:00:37\n",
      "MB 46% (55 of 119.0) |########           | Elapsed Time: 0:00:23 ETA:   0:00:33\n",
      "MB 47% (56 of 119.0) |########           | Elapsed Time: 0:00:23 ETA:   0:00:30\n",
      "MB 47% (57 of 119.0) |#########          | Elapsed Time: 0:00:24 ETA:   0:00:25\n",
      "MB 48% (58 of 119.0) |#########          | Elapsed Time: 0:00:24 ETA:   0:00:24\n",
      "MB 49% (59 of 119.0) |#########          | Elapsed Time: 0:00:25 ETA:   0:00:23\n",
      "MB 50% (60 of 119.0) |#########          | Elapsed Time: 0:00:25 ETA:   0:00:21\n",
      "MB 51% (61 of 119.0) |#########          | Elapsed Time: 0:00:25 ETA:   0:00:20\n",
      "MB 52% (62 of 119.0) |#########          | Elapsed Time: 0:00:25 ETA:   0:00:19\n",
      "MB 52% (63 of 119.0) |##########         | Elapsed Time: 0:00:26 ETA:   0:00:17\n",
      "MB 53% (64 of 119.0) |##########         | Elapsed Time: 0:00:26 ETA:   0:00:16\n",
      "MB 54% (65 of 119.0) |##########         | Elapsed Time: 0:00:26 ETA:   0:00:15\n",
      "MB 55% (66 of 119.0) |##########         | Elapsed Time: 0:00:26 ETA:   0:00:13\n",
      "MB 56% (67 of 119.0) |##########         | Elapsed Time: 0:00:27 ETA:   0:00:12\n",
      "MB 57% (68 of 119.0) |##########         | Elapsed Time: 0:00:27 ETA:   0:00:12\n",
      "MB 57% (69 of 119.0) |###########        | Elapsed Time: 0:00:27 ETA:   0:00:11\n",
      "MB 58% (70 of 119.0) |###########        | Elapsed Time: 0:00:27 ETA:   0:00:11\n",
      "MB 59% (71 of 119.0) |###########        | Elapsed Time: 0:00:27 ETA:   0:00:10\n",
      "MB 60% (72 of 119.0) |###########        | Elapsed Time: 0:00:28 ETA:   0:00:10\n",
      "MB 61% (73 of 119.0) |###########        | Elapsed Time: 0:00:28 ETA:   0:00:10\n",
      "MB 62% (74 of 119.0) |###########        | Elapsed Time: 0:00:28 ETA:   0:00:09\n",
      "MB 63% (75 of 119.0) |###########        | Elapsed Time: 0:00:28 ETA:   0:00:10\n",
      "MB 63% (76 of 119.0) |############       | Elapsed Time: 0:00:29 ETA:   0:00:10\n",
      "MB 64% (77 of 119.0) |############       | Elapsed Time: 0:00:29 ETA:   0:00:09\n",
      "MB 65% (78 of 119.0) |############       | Elapsed Time: 0:00:29 ETA:   0:00:11\n",
      "MB 66% (79 of 119.0) |############       | Elapsed Time: 0:00:30 ETA:   0:00:10\n",
      "MB 67% (80 of 119.0) |############       | Elapsed Time: 0:00:30 ETA:   0:00:10\n",
      "MB 68% (81 of 119.0) |############       | Elapsed Time: 0:00:30 ETA:   0:00:09\n",
      "MB 68% (82 of 119.0) |#############      | Elapsed Time: 0:00:30 ETA:   0:00:08\n",
      "MB 69% (83 of 119.0) |#############      | Elapsed Time: 0:00:30 ETA:   0:00:08\n",
      "MB 70% (84 of 119.0) |#############      | Elapsed Time: 0:00:30 ETA:   0:00:08\n",
      "MB 71% (85 of 119.0) |#############      | Elapsed Time: 0:00:31 ETA:   0:00:07\n",
      "MB 72% (86 of 119.0) |#############      | Elapsed Time: 0:00:31 ETA:   0:00:06\n",
      "MB 73% (87 of 119.0) |#############      | Elapsed Time: 0:00:31 ETA:   0:00:06\n",
      "MB 73% (88 of 119.0) |##############     | Elapsed Time: 0:00:31 ETA:   0:00:06\n",
      "MB 74% (89 of 119.0) |##############     | Elapsed Time: 0:00:31 ETA:   0:00:05\n",
      "MB 75% (90 of 119.0) |##############     | Elapsed Time: 0:00:31 ETA:   0:00:05\n",
      "MB 76% (91 of 119.0) |##############     | Elapsed Time: 0:00:32 ETA:   0:00:04\n",
      "MB 77% (92 of 119.0) |##############     | Elapsed Time: 0:00:32 ETA:   0:00:04\n",
      "MB 78% (93 of 119.0) |##############     | Elapsed Time: 0:00:32 ETA:   0:00:04\n",
      "MB 78% (94 of 119.0) |###############    | Elapsed Time: 0:00:32 ETA:   0:00:04\n",
      "MB 79% (95 of 119.0) |###############    | Elapsed Time: 0:00:32 ETA:   0:00:04\n",
      "MB 80% (96 of 119.0) |###############    | Elapsed Time: 0:00:32 ETA:   0:00:03\n",
      "MB 81% (97 of 119.0) |###############    | Elapsed Time: 0:00:33 ETA:   0:00:03\n",
      "MB 82% (98 of 119.0) |###############    | Elapsed Time: 0:00:33 ETA:   0:00:03\n",
      "MB 83% (99 of 119.0) |###############    | Elapsed Time: 0:00:33 ETA:   0:00:03\n",
      "MB 84% (100 of 119.0) |###############   | Elapsed Time: 0:00:33 ETA:   0:00:02\n",
      "MB 84% (101 of 119.0) |###############   | Elapsed Time: 0:00:33 ETA:   0:00:02\n",
      "MB 85% (102 of 119.0) |###############   | Elapsed Time: 0:00:33 ETA:   0:00:02\n",
      "MB 86% (103 of 119.0) |###############   | Elapsed Time: 0:00:33 ETA:   0:00:02\n",
      "MB 87% (104 of 119.0) |###############   | Elapsed Time: 0:00:34 ETA:   0:00:02\n",
      "MB 88% (105 of 119.0) |###############   | Elapsed Time: 0:00:34 ETA:   0:00:02\n",
      "MB 89% (106 of 119.0) |################  | Elapsed Time: 0:00:34 ETA:   0:00:01\n",
      "MB 89% (107 of 119.0) |################  | Elapsed Time: 0:00:34 ETA:   0:00:02\n",
      "MB 90% (108 of 119.0) |################  | Elapsed Time: 0:00:35 ETA:   0:00:02\n",
      "MB 91% (109 of 119.0) |################  | Elapsed Time: 0:00:35 ETA:   0:00:02\n",
      "MB 92% (110 of 119.0) |################  | Elapsed Time: 0:00:35 ETA:   0:00:02\n",
      "MB 93% (111 of 119.0) |################  | Elapsed Time: 0:00:36 ETA:   0:00:02\n",
      "MB 94% (112 of 119.0) |################  | Elapsed Time: 0:00:36 ETA:   0:00:02\n",
      "MB 94% (113 of 119.0) |################# | Elapsed Time: 0:00:36 ETA:   0:00:02\n",
      "MB 95% (114 of 119.0) |################# | Elapsed Time: 0:00:37 ETA:   0:00:01\n",
      "MB 96% (115 of 119.0) |################# | Elapsed Time: 0:00:37 ETA:   0:00:01\n",
      "MB 97% (116 of 119.0) |################# | Elapsed Time: 0:00:37 ETA:   0:00:00\n",
      "MB 98% (117 of 119.0) |################# | Elapsed Time: 0:00:38 ETA:   0:00:00\n",
      "MB 99% (118 of 119.0) |################# | Elapsed Time: 0:00:38 ETA:   0:00:00\n",
      "MB100% (119.0 of 119.0) |################| Elapsed Time: 0:00:38 Time:  0:00:38\n"
     ]
    },
    {
     "name": "stdout",
     "output_type": "stream",
     "text": [
      "Succefully Downloaded to: D:\\React-Native\\kisaan-connect\\server\\venv\\Lib\\site-packages\\ai4bharat\\transliteration\\transformer\\models\\indic2en\\v1.0\\model.zip\n",
      "Models downloaded to: D:\\React-Native\\kisaan-connect\\server\\venv\\Lib\\site-packages\\ai4bharat\\transliteration\\transformer\\models\\indic2en\\v1.0\n",
      "NOTE: When uninstalling this library, REMEMBER to delete the models manually\n",
      "Downloading language model probablitites dictionaries for rescoring module\n"
     ]
    },
    {
     "name": "stderr",
     "output_type": "stream",
     "text": [
      "MB  0% (0 of 2.0) |                      | Elapsed Time: 0:00:00 ETA:  --:--:--\n",
      "MB 50% (1 of 2.0) |###########           | Elapsed Time: 0:00:00 ETA:  00:00:00\n",
      "MB100% (2.0 of 2.0) |####################| Elapsed Time: 0:00:00 Time:  0:00:00\n"
     ]
    },
    {
     "name": "stdout",
     "output_type": "stream",
     "text": [
      "Succefully Downloaded to: D:\\React-Native\\kisaan-connect\\server\\venv\\Lib\\site-packages\\ai4bharat\\transliteration\\transformer\\models\\indic2en\\v1.0\\dicts.zip\n",
      "Initializing Multilingual model for transliteration\n"
     ]
    },
    {
     "name": "stderr",
     "output_type": "stream",
     "text": [
      "Loading dicts into RAM: 100%|██████████| 1/1 [00:00<00:00,  5.33it/s]\n"
     ]
    },
    {
     "name": "stdout",
     "output_type": "stream",
     "text": [
      "Initializing Multilingual model for transliteration\n"
     ]
    },
    {
     "name": "stderr",
     "output_type": "stream",
     "text": [
      "Loading dicts into RAM: 100%|██████████| 1/1 [00:00<00:00,  5.35it/s]\n"
     ]
    },
    {
     "name": "stdout",
     "output_type": "stream",
     "text": [
      "Initializing Multilingual model for transliteration\n"
     ]
    },
    {
     "name": "stderr",
     "output_type": "stream",
     "text": [
      "Loading dicts into RAM: 100%|██████████| 1/1 [00:00<00:00,  5.58it/s]\n"
     ]
    },
    {
     "name": "stdout",
     "output_type": "stream",
     "text": [
      "Approved\n"
     ]
    }
   ],
   "source": [
    "model = joblib.load('model.joblib')\n",
    "model(\"John\", \"John\")"
   ]
  }
 ],
 "metadata": {
  "kernelspec": {
   "display_name": "Python 3",
   "language": "python",
   "name": "python3"
  },
  "language_info": {
   "codemirror_mode": {
    "name": "ipython",
    "version": 3
   },
   "file_extension": ".py",
   "mimetype": "text/x-python",
   "name": "python",
   "nbconvert_exporter": "python",
   "pygments_lexer": "ipython3",
   "version": "3.10.2"
  },
  "orig_nbformat": 4
 },
 "nbformat": 4,
 "nbformat_minor": 2
}
